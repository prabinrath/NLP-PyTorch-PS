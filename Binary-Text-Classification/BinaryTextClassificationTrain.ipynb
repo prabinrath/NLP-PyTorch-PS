{
 "cells": [
  {
   "cell_type": "code",
   "execution_count": 119,
   "id": "d660d878",
   "metadata": {},
   "outputs": [],
   "source": [
    "import pandas as pd\n",
    "from sklearn.model_selection import train_test_split\n",
    "from sklearn.metrics import accuracy_score"
   ]
  },
  {
   "cell_type": "code",
   "execution_count": 120,
   "id": "c7608701",
   "metadata": {},
   "outputs": [
    {
     "data": {
      "text/html": [
       "<div>\n",
       "<style scoped>\n",
       "    .dataframe tbody tr th:only-of-type {\n",
       "        vertical-align: middle;\n",
       "    }\n",
       "\n",
       "    .dataframe tbody tr th {\n",
       "        vertical-align: top;\n",
       "    }\n",
       "\n",
       "    .dataframe thead th {\n",
       "        text-align: right;\n",
       "    }\n",
       "</style>\n",
       "<table border=\"1\" class=\"dataframe\">\n",
       "  <thead>\n",
       "    <tr style=\"text-align: right;\">\n",
       "      <th></th>\n",
       "      <th>label</th>\n",
       "      <th>text</th>\n",
       "    </tr>\n",
       "  </thead>\n",
       "  <tbody>\n",
       "    <tr>\n",
       "      <th>0</th>\n",
       "      <td>ham</td>\n",
       "      <td>Go until jurong point, crazy.. Available only ...</td>\n",
       "    </tr>\n",
       "    <tr>\n",
       "      <th>1</th>\n",
       "      <td>ham</td>\n",
       "      <td>Ok lar... Joking wif u oni...</td>\n",
       "    </tr>\n",
       "    <tr>\n",
       "      <th>2</th>\n",
       "      <td>spam</td>\n",
       "      <td>Free entry in 2 a wkly comp to win FA Cup fina...</td>\n",
       "    </tr>\n",
       "    <tr>\n",
       "      <th>3</th>\n",
       "      <td>ham</td>\n",
       "      <td>U dun say so early hor... U c already then say...</td>\n",
       "    </tr>\n",
       "    <tr>\n",
       "      <th>4</th>\n",
       "      <td>ham</td>\n",
       "      <td>Nah I don't think he goes to usf, he lives aro...</td>\n",
       "    </tr>\n",
       "  </tbody>\n",
       "</table>\n",
       "</div>"
      ],
      "text/plain": [
       "  label                                               text\n",
       "0   ham  Go until jurong point, crazy.. Available only ...\n",
       "1   ham                      Ok lar... Joking wif u oni...\n",
       "2  spam  Free entry in 2 a wkly comp to win FA Cup fina...\n",
       "3   ham  U dun say so early hor... U c already then say...\n",
       "4   ham  Nah I don't think he goes to usf, he lives aro..."
      ]
     },
     "execution_count": 120,
     "metadata": {},
     "output_type": "execute_result"
    }
   ],
   "source": [
    "data = pd.read_csv(\"../datasets/sms-classification/spam.csv\", encoding=\"latin-1\")\n",
    "data = data.drop(columns=[\"Unnamed: 2\", \"Unnamed: 3\", \"Unnamed: 4\"], axis=1);\n",
    "data = data.rename(index=str, columns={\"v1\":\"label\",\"v2\":\"text\"});\n",
    "data.head()"
   ]
  },
  {
   "cell_type": "code",
   "execution_count": 121,
   "id": "bbe37c4b",
   "metadata": {},
   "outputs": [
    {
     "data": {
      "text/plain": [
       "(     label                                               text\n",
       " 0      ham  No I'm in the same boat. Still here at my moms...\n",
       " 1     spam  (Bank of Granite issues Strong-Buy) EXPLOSIVE ...\n",
       " 2      ham     They r giving a second chance to rahul dengra.\n",
       " 3      ham     O i played smash bros  &lt;#&gt;  religiously.\n",
       " 4     spam  PRIVATE! Your 2003 Account Statement for 07973...\n",
       " ...    ...                                                ...\n",
       " 4452   ham  I came hostel. I m going to sleep. Plz call me...\n",
       " 4453   ham                             Sorry, I'll call later\n",
       " 4454   ham      Prabha..i'm soryda..realy..frm heart i'm sory\n",
       " 4455   ham                         Nt joking seriously i told\n",
       " 4456   ham                In work now. Going have in few min.\n",
       " \n",
       " [4457 rows x 2 columns],\n",
       "      label                                               text\n",
       " 0      ham  Funny fact Nobody teaches volcanoes 2 erupt, t...\n",
       " 1      ham  I sent my scores to sophas and i had to do sec...\n",
       " 2     spam  We know someone who you know that fancies you....\n",
       " 3      ham  Only if you promise your getting out as SOON a...\n",
       " 4     spam  Congratulations ur awarded either å£500 of CD ...\n",
       " ...    ...                                                ...\n",
       " 1110   ham   &lt;DECIMAL&gt; m but its not a common car he...\n",
       " 1111   ham  Rightio. 11.48 it is then. Well arent we all u...\n",
       " 1112   ham  Yes i have. So that's why u texted. Pshew...mi...\n",
       " 1113   ham                             Get the door, I'm here\n",
       " 1114  spam  Kit Strip - you have been billed 150p. Netcoll...\n",
       " \n",
       " [1115 rows x 2 columns])"
      ]
     },
     "execution_count": 121,
     "metadata": {},
     "output_type": "execute_result"
    }
   ],
   "source": [
    "train, test = train_test_split(data, test_size=0.2, random_state=42);\n",
    "train.reset_index(drop=True), test.reset_index(drop=True)"
   ]
  },
  {
   "cell_type": "code",
   "execution_count": 122,
   "id": "32c21556",
   "metadata": {},
   "outputs": [],
   "source": [
    "train.to_csv(\"../datasets/sms-classification/spam_train.csv\", index=False);\n",
    "test.to_csv(\"../datasets/sms-classification/spam_test.csv\", index=False);"
   ]
  },
  {
   "cell_type": "code",
   "execution_count": 123,
   "id": "132ffa6e",
   "metadata": {},
   "outputs": [],
   "source": [
    "import numpy as np\n",
    "import torch\n",
    "from torchtext.data import Field, LabelField, TabularDataset, BucketIterator"
   ]
  },
  {
   "cell_type": "code",
   "execution_count": 124,
   "id": "d5fdc5e5",
   "metadata": {},
   "outputs": [
    {
     "name": "stderr",
     "output_type": "stream",
     "text": [
      "[nltk_data] Downloading package punkt to\n",
      "[nltk_data]     C:\\Users\\Admin\\AppData\\Roaming\\nltk_data...\n",
      "[nltk_data]   Package punkt is already up-to-date!\n"
     ]
    }
   ],
   "source": [
    "import nltk\n",
    "nltk.download(\"punkt\");\n",
    "from nltk import word_tokenize"
   ]
  },
  {
   "cell_type": "code",
   "execution_count": 125,
   "id": "6c87198d",
   "metadata": {},
   "outputs": [],
   "source": [
    "Text = Field(tokenize=word_tokenize);\n",
    "Label = LabelField(dtype=torch.float);\n",
    "datafields = [(\"label\",Label), (\"text\",Text)];\n",
    "trn, tst = TabularDataset.splits(path=\"../datasets/sms-classification\",\n",
    "                                train = \"spam_train.csv\",\n",
    "                                test = \"spam_test.csv\",\n",
    "                                format = \"csv\",\n",
    "                                skip_header = True,\n",
    "                                fields = datafields);\n",
    "Text.build_vocab(trn, max_size=10000);\n",
    "vocab_size = len(Text.vocab);\n",
    "Label.build_vocab(trn);"
   ]
  },
  {
   "cell_type": "code",
   "execution_count": 126,
   "id": "9cd687a7",
   "metadata": {},
   "outputs": [
    {
     "data": {
      "text/plain": [
       "[('.', 3847),\n",
       " ('to', 1750),\n",
       " ('I', 1574),\n",
       " (',', 1468),\n",
       " ('you', 1462),\n",
       " ('?', 1256),\n",
       " ('!', 1134),\n",
       " ('a', 1068),\n",
       " ('the', 946),\n",
       " ('...', 923)]"
      ]
     },
     "execution_count": 126,
     "metadata": {},
     "output_type": "execute_result"
    }
   ],
   "source": [
    "Text.vocab.freqs.most_common(10)"
   ]
  },
  {
   "cell_type": "code",
   "execution_count": 127,
   "id": "68ab2842",
   "metadata": {},
   "outputs": [
    {
     "name": "stdout",
     "output_type": "stream",
     "text": [
      "['<unk>', '<pad>', '.', 'to', 'I', ',', 'you', '?', '!', 'a']\n"
     ]
    }
   ],
   "source": [
    "print(Text.vocab.itos[0:10])"
   ]
  },
  {
   "cell_type": "code",
   "execution_count": 128,
   "id": "68c32906",
   "metadata": {},
   "outputs": [
    {
     "name": "stdout",
     "output_type": "stream",
     "text": [
      "defaultdict(None, {'ham': 0, 'spam': 1})\n"
     ]
    }
   ],
   "source": [
    "print(Label.vocab.stoi)"
   ]
  },
  {
   "cell_type": "code",
   "execution_count": 129,
   "id": "3779e07b",
   "metadata": {},
   "outputs": [],
   "source": [
    "batch_size = 32;\n",
    "train_itr, test_itr = BucketIterator.splits((trn, tst),\n",
    "                                            batch_size = batch_size,\n",
    "                                            sort_key = lambda x: len(x.text),\n",
    "                                            #sort=False,\n",
    "                                            #shuffle=True,\n",
    "                                            sort_within_batch=False);"
   ]
  },
  {
   "cell_type": "code",
   "execution_count": 130,
   "id": "d4763803",
   "metadata": {},
   "outputs": [],
   "source": [
    "import torch.nn as nn\n",
    "class SMSClassifierModel(nn.Module):\n",
    "    \n",
    "    def __init__(self, vocab_size):\n",
    "        super().__init__();\n",
    "        self.model_input = nn.Embedding(vocab_size, 100);\n",
    "        # self.rnn = nn.RNN(100, 128);\n",
    "        self.rnn = nn.LSTM(100, 128);\n",
    "        self.model_output = nn.Linear(128, 1);\n",
    "        self.activation = nn.Sigmoid()\n",
    "        \n",
    "    def forward(self, sms_text):\n",
    "        embedded = self.model_input(sms_text);\n",
    "        # _,hidden = self.rnn(embedded);\n",
    "        _,(hidden,_) = self.rnn(embedded);\n",
    "        output = self.model_output(hidden);\n",
    "        return self.activation(output)"
   ]
  },
  {
   "cell_type": "code",
   "execution_count": 131,
   "id": "df3cbadb",
   "metadata": {},
   "outputs": [
    {
     "name": "stderr",
     "output_type": "stream",
     "text": [
      "100%|████████████████████████████████████████████████████████████████████████████████| 140/140 [00:19<00:00,  7.22it/s]\n"
     ]
    },
    {
     "name": "stdout",
     "output_type": "stream",
     "text": [
      "Epoch: 1 , Loss: 0.4247988076082298 , Accuracy: 86.40625 % , Val Loss: 0.5908270631517683 , Val Accuracy: 77.58928571428571 %\n"
     ]
    },
    {
     "name": "stderr",
     "output_type": "stream",
     "text": [
      "100%|████████████████████████████████████████████████████████████████████████████████| 140/140 [00:19<00:00,  7.16it/s]\n"
     ]
    },
    {
     "name": "stdout",
     "output_type": "stream",
     "text": [
      "Epoch: 2 , Loss: 0.3982403790312154 , Accuracy: 86.50545632498604 % , Val Loss: 0.5682667332036154 , Val Accuracy: 81.69642857142857 %\n"
     ]
    },
    {
     "name": "stderr",
     "output_type": "stream",
     "text": [
      "100%|████████████████████████████████████████████████████████████████████████████████| 140/140 [00:19<00:00,  7.24it/s]\n"
     ]
    },
    {
     "name": "stdout",
     "output_type": "stream",
     "text": [
      "Epoch: 3 , Loss: 0.3877196018184934 , Accuracy: 86.60714285714286 % , Val Loss: 0.5584362010870662 , Val Accuracy: 83.66071428571429 %\n"
     ]
    },
    {
     "name": "stderr",
     "output_type": "stream",
     "text": [
      "100%|████████████████████████████████████████████████████████████████████████████████| 140/140 [00:19<00:00,  7.23it/s]\n"
     ]
    },
    {
     "name": "stdout",
     "output_type": "stream",
     "text": [
      "Epoch: 4 , Loss: 0.37588110246828627 , Accuracy: 86.65178571428571 % , Val Loss: 0.5481287262269429 , Val Accuracy: 86.07142857142857 %\n"
     ]
    },
    {
     "name": "stderr",
     "output_type": "stream",
     "text": [
      "100%|████████████████████████████████████████████████████████████████████████████████| 140/140 [00:18<00:00,  7.44it/s]\n"
     ]
    },
    {
     "name": "stdout",
     "output_type": "stream",
     "text": [
      "Epoch: 5 , Loss: 0.3581527215029512 , Accuracy: 86.20287699018206 % , Val Loss: 0.533317608492715 , Val Accuracy: 87.14285714285714 %\n"
     ]
    },
    {
     "name": "stderr",
     "output_type": "stream",
     "text": [
      "100%|████████████████████████████████████████████████████████████████████████████████| 140/140 [00:18<00:00,  7.41it/s]\n"
     ]
    },
    {
     "name": "stdout",
     "output_type": "stream",
     "text": [
      "Epoch: 6 , Loss: 0.2976589519530535 , Accuracy: 88.20188489641463 % , Val Loss: 0.4946149230003357 , Val Accuracy: 88.48214285714286 %\n"
     ]
    },
    {
     "name": "stderr",
     "output_type": "stream",
     "text": [
      "100%|████████████████████████████████████████████████████████████████████████████████| 140/140 [00:19<00:00,  7.01it/s]\n"
     ]
    },
    {
     "name": "stdout",
     "output_type": "stream",
     "text": [
      "Epoch: 7 , Loss: 0.23740210075463566 , Accuracy: 91.41617061070033 % , Val Loss: 0.44313239359429907 , Val Accuracy: 90.26785714285714 %\n"
     ]
    },
    {
     "name": "stderr",
     "output_type": "stream",
     "text": [
      "100%|████████████████████████████████████████████████████████████████████████████████| 140/140 [00:18<00:00,  7.39it/s]\n"
     ]
    },
    {
     "name": "stdout",
     "output_type": "stream",
     "text": [
      "Epoch: 8 , Loss: 0.22719348392316274 , Accuracy: 91.65178571428571 % , Val Loss: 0.41777458488941194 , Val Accuracy: 90.89285714285714 %\n"
     ]
    },
    {
     "name": "stderr",
     "output_type": "stream",
     "text": [
      "100%|████████████████████████████████████████████████████████████████████████████████| 140/140 [00:19<00:00,  7.32it/s]\n"
     ]
    },
    {
     "name": "stdout",
     "output_type": "stream",
     "text": [
      "Epoch: 9 , Loss: 0.19207591717796665 , Accuracy: 93.63591270446777 % , Val Loss: 0.3953226967049496 , Val Accuracy: 92.58928571428571 %\n"
     ]
    },
    {
     "name": "stderr",
     "output_type": "stream",
     "text": [
      "100%|████████████████████████████████████████████████████████████████████████████████| 140/140 [00:19<00:00,  7.33it/s]\n"
     ]
    },
    {
     "name": "stdout",
     "output_type": "stream",
     "text": [
      "Epoch: 10 , Loss: 0.15782641844291773 , Accuracy: 95.04216270446777 % , Val Loss: 0.38704209114824023 , Val Accuracy: 93.2870370047433 %\n"
     ]
    }
   ],
   "source": [
    "from tqdm import tqdm\n",
    "import torch.optim as optim\n",
    "n_epochs = 10;\n",
    "sms_classifier = SMSClassifierModel(vocab_size);\n",
    "optimizer = optim.Adam(sms_classifier.parameters(), lr=1e-4);\n",
    "loss_function = nn.BCELoss();\n",
    "\n",
    "loss_stats = []\n",
    "acc_stats = []\n",
    "val_loss_stats = []\n",
    "val_acc_stats = []\n",
    "for epoch in range(n_epochs):\n",
    "    # Train\n",
    "    sms_classifier.train();\n",
    "    epoch_acc = 0;\n",
    "    epoch_loss = 0;\n",
    "    for batch in tqdm(train_itr):\n",
    "        optimizer.zero_grad();\n",
    "        pred = sms_classifier(batch.text).squeeze();\n",
    "        loss = loss_function(pred, batch.label)\n",
    "        rounded_pred = torch.round(pred);\n",
    "        correct = rounded_pred == batch.label;\n",
    "        acc = sum(correct.float())*100/len(correct);\n",
    "        loss.backward()\n",
    "        optimizer.step()\n",
    "        epoch_loss += loss.item();\n",
    "        epoch_acc += acc.item();  \n",
    "    epoch_loss = epoch_loss/len(train_itr)\n",
    "    epoch_acc = epoch_acc/len(train_itr)\n",
    "    loss_stats.append(epoch_loss)\n",
    "    acc_stats.append(epoch_acc)\n",
    "    \n",
    "    # Validate\n",
    "    sms_classifier.eval();\n",
    "    val_loss = 0;\n",
    "    val_acc = 0;\n",
    "    with torch.no_grad():        \n",
    "        for batch in test_itr:\n",
    "            pred = sms_classifier(batch.text).squeeze();\n",
    "            loss = loss_function(pred, batch.label)\n",
    "            rounded_pred = torch.round(pred);\n",
    "            correct = rounded_pred == batch.label;\n",
    "            acc = sum(correct.float())*100/len(correct);\n",
    "            val_loss += loss.item();\n",
    "            val_acc += acc.item();\n",
    "    val_loss = val_loss/len(test_itr)\n",
    "    val_acc = val_acc/len(test_itr)\n",
    "    val_loss_stats.append(val_loss)\n",
    "    val_acc_stats.append(val_acc)\n",
    "    \n",
    "    print(\"Epoch:\", epoch+1, \", Loss:\", epoch_loss, \", Accuracy:\", epoch_acc, \"%\", \", Val Loss:\", val_loss, \", Val Accuracy:\", val_acc,\"%\");"
   ]
  },
  {
   "cell_type": "code",
   "execution_count": 132,
   "id": "8be7155a",
   "metadata": {},
   "outputs": [
    {
     "data": {
      "image/png": "[encoded data removed]",
      "text/plain": [
       "<Figure size 432x288 with 1 Axes>"
      ]
     },
     "metadata": {
      "needs_background": "light"
     },
     "output_type": "display_data"
    },
    {
     "data": {
      "image/png": "[encoded data removed]",
      "text/plain": [
       "<Figure size 432x288 with 1 Axes>"
      ]
     },
     "metadata": {
      "needs_background": "light"
     },
     "output_type": "display_data"
    }
   ],
   "source": [
    "import matplotlib.pyplot as plt\n",
    "\n",
    "plt.plot(acc_stats)\n",
    "plt.plot(val_acc_stats)\n",
    "\n",
    "plt.title('model accuracy')\n",
    "plt.ylabel('accuracy')\n",
    "plt.xlabel('epoch')\n",
    "plt.legend(['train','validation'], loc='upper left')\n",
    "# plt.ylim(0.5,1)\n",
    "plt.show()\n",
    "\n",
    "plt.plot(loss_stats)\n",
    "plt.plot(val_loss_stats)\n",
    "\n",
    "plt.title('model loss')\n",
    "plt.ylabel('loss')\n",
    "plt.xlabel('epoch')\n",
    "plt.legend(['train','validation'], loc='upper left')\n",
    "# plt.ylim(0,1.5)\n",
    "plt.show()"
   ]
  },
  {
   "cell_type": "code",
   "execution_count": 133,
   "id": "3b909d4c",
   "metadata": {
    "scrolled": true
   },
   "outputs": [
    {
     "name": "stdout",
     "output_type": "stream",
     "text": [
      "SMSClassifierModel(\n",
      "  (model_input): Embedding(10002, 100)\n",
      "  (rnn): LSTM(100, 128)\n",
      "  (model_output): Linear(in_features=128, out_features=1, bias=True)\n",
      "  (activation): Sigmoid()\n",
      ")\n"
     ]
    }
   ],
   "source": [
    "print(sms_classifier);"
   ]
  },
  {
   "cell_type": "code",
   "execution_count": 134,
   "id": "1cb167b4",
   "metadata": {},
   "outputs": [],
   "source": [
    "torch.save(sms_classifier.state_dict(), 'sms_classifier_weights.pt');\n",
    "import pickle\n",
    "output = open('sms_vocab.pkl', 'wb')\n",
    "pickle.dump(Text.vocab, output)\n",
    "output.close()"
   ]
  }
 ],
 "metadata": {
  "kernelspec": {
   "display_name": "Python 3 (ipykernel)",
   "language": "python",
   "name": "python3"
  },
  "language_info": {
   "codemirror_mode": {
    "name": "ipython",
    "version": 3
   },
   "file_extension": ".py",
   "mimetype": "text/x-python",
   "name": "python",
   "nbconvert_exporter": "python",
   "pygments_lexer": "ipython3",
   "version": "3.9.1"
  }
 },
 "nbformat": 4,
 "nbformat_minor": 5
}
