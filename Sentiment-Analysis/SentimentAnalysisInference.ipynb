{
 "cells": [
  {
   "cell_type": "code",
   "execution_count": 1,
   "id": "5b316281",
   "metadata": {},
   "outputs": [],
   "source": [
    "import torch.nn as nn\n",
    "\n",
    "class SentimentAnalysisModel(nn.Module):\n",
    "    def __init__(self, vocab_size, embedding_dim, hidden_dim, \n",
    "                 output_dim, n_layers, bidirectional, dropout, pad_idx):\n",
    "        super().__init__();\n",
    "        \n",
    "        self.embedding = nn.Embedding(vocab_size, embedding_dim, padding_idx = pad_idx);\n",
    "        self.rnn = nn.LSTM(embedding_dim, hidden_dim, \n",
    "                           num_layers = n_layers, \n",
    "                           bidirectional = bidirectional,\n",
    "                           dropout = dropout);\n",
    "        self.fullyconnected = nn.Linear(hidden_dim*2, output_dim);\n",
    "        self.dropout = nn.Dropout(dropout);\n",
    "#         self.sigmoid = nn.Sigmoid()\n",
    "        \n",
    "    def forward(self, tweets, text_lengths):\n",
    "        embedded = self.embedding(tweets);\n",
    "        packed_embedded = nn.utils.rnn.pack_padded_sequence(embedded, text_lengths);\n",
    "        _,(hidden, _) = self.rnn(packed_embedded);\n",
    "        hidden = self.dropout(torch.cat((hidden[-2,:,:], hidden[-1,:,:]), dim = 1));\n",
    "#         return self.sigmoid(self.fullyconnected(hidden));\n",
    "        return self.fullyconnected(hidden);"
   ]
  },
  {
   "cell_type": "code",
   "execution_count": 5,
   "id": "1bedf768",
   "metadata": {},
   "outputs": [],
   "source": [
    "import torch\n",
    "import os.path\n",
    "import pickle\n",
    "\n",
    "def read_vocab(path):\n",
    "    pkl_file = open(path, 'rb')\n",
    "    vocab = pickle.load(pkl_file)\n",
    "    pkl_file.close()\n",
    "    return vocab\n",
    "\n",
    "def load_model_and_vocab(vocab_path, weights_path):    \n",
    "    vocab = read_vocab(vocab_path)\n",
    "    model = SentimentAnalysisModel(len(vocab),\n",
    "                              embedding_dim = 100,\n",
    "                              hidden_dim = 256,\n",
    "                              output_dim = 1,\n",
    "                              n_layers = 2,\n",
    "                              bidirectional = True,\n",
    "                              dropout = 0.5,\n",
    "                              pad_idx = 1);\n",
    "    model.load_state_dict(torch.load(weights_path))\n",
    "    model.eval()\n",
    "    return model, vocab\n",
    "\n",
    "model, vocab = load_model_and_vocab(\"sentiment_vocab.pkl\", \"sentiment_analysis_weights.pt\");"
   ]
  },
  {
   "cell_type": "code",
   "execution_count": 34,
   "id": "23325bbb",
   "metadata": {},
   "outputs": [
    {
     "name": "stdout",
     "output_type": "stream",
     "text": [
      "I love the way Elon Musk is expressing his monopoly over twitter.  :  pos\n",
      "Your act was not good.  :  neg\n"
     ]
    }
   ],
   "source": [
    "import spacy\n",
    "import re\n",
    "nlp = spacy.load(\"en_core_web_sm\");\n",
    "\n",
    "def clean_tweets(text):\n",
    "    text = re.sub(r'[^A-Za-z0-9]+', ' ', text);\n",
    "    text = re.sub(r'https?:/\\/\\S+', ' ', text);\n",
    "    return text.strip();\n",
    "\n",
    "def tokenizer(text):\n",
    "    return [w.text.lower() for w in nlp(clean_tweets(text))];\n",
    "\n",
    "def sentence_to_input(text):\n",
    "    tokens = tokenizer(text);\n",
    "    length = len(tokens);\n",
    "    input_vector = [vocab[x] for x in tokens];\n",
    "    input_vector = torch.LongTensor(input_vector);\n",
    "    return (torch.unsqueeze(input_vector, 1), torch.LongTensor([length]));\n",
    "\n",
    "tweets = ['I love the way Elon Musk is expressing his monopoly over twitter.', \n",
    "          'Your act was not good.']\n",
    "for tweet in tweets:\n",
    "    text, text_lengths = sentence_to_input(tweet);\n",
    "    pred = model(text, text_lengths).squeeze();\n",
    "    rounded_pred = torch.round(torch.sigmoid(pred));\n",
    "    labels = ['pos', 'neg'];\n",
    "    print(tweet, ' : ', labels[int(rounded_pred.item())]);"
   ]
  }
 ],
 "metadata": {
  "kernelspec": {
   "display_name": "Python 3 (ipykernel)",
   "language": "python",
   "name": "python3"
  },
  "language_info": {
   "codemirror_mode": {
    "name": "ipython",
    "version": 3
   },
   "file_extension": ".py",
   "mimetype": "text/x-python",
   "name": "python",
   "nbconvert_exporter": "python",
   "pygments_lexer": "ipython3",
   "version": "3.9.1"
  }
 },
 "nbformat": 4,
 "nbformat_minor": 5
}
