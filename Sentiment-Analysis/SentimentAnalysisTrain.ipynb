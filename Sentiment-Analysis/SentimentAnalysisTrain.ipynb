{
 "cells": [
  {
   "cell_type": "code",
   "execution_count": 1,
   "id": "d43f11df",
   "metadata": {},
   "outputs": [],
   "source": [
    "import torch\n",
    "from torchtext.data import Field, LabelField, TabularDataset, BucketIterator\n",
    "from torchtext import datasets\n",
    "import pandas as pd\n",
    "from sklearn.model_selection import train_test_split\n",
    "from sklearn.metrics import accuracy_score"
   ]
  },
  {
   "cell_type": "code",
   "execution_count": 2,
   "id": "98e4027a",
   "metadata": {},
   "outputs": [
    {
     "data": {
      "text/html": [
       "<div>\n",
       "<style scoped>\n",
       "    .dataframe tbody tr th:only-of-type {\n",
       "        vertical-align: middle;\n",
       "    }\n",
       "\n",
       "    .dataframe tbody tr th {\n",
       "        vertical-align: top;\n",
       "    }\n",
       "\n",
       "    .dataframe thead th {\n",
       "        text-align: right;\n",
       "    }\n",
       "</style>\n",
       "<table border=\"1\" class=\"dataframe\">\n",
       "  <thead>\n",
       "    <tr style=\"text-align: right;\">\n",
       "      <th></th>\n",
       "      <th>label</th>\n",
       "      <th>text</th>\n",
       "    </tr>\n",
       "  </thead>\n",
       "  <tbody>\n",
       "    <tr>\n",
       "      <th>0</th>\n",
       "      <td>neg</td>\n",
       "      <td>is so sad for my APL frie...</td>\n",
       "    </tr>\n",
       "    <tr>\n",
       "      <th>1</th>\n",
       "      <td>neg</td>\n",
       "      <td>I missed the New Moon trail...</td>\n",
       "    </tr>\n",
       "    <tr>\n",
       "      <th>2</th>\n",
       "      <td>pos</td>\n",
       "      <td>omg its already 7:30 :O</td>\n",
       "    </tr>\n",
       "    <tr>\n",
       "      <th>3</th>\n",
       "      <td>neg</td>\n",
       "      <td>.. Omgaga. Im sooo  im gunna CRy. I've been at...</td>\n",
       "    </tr>\n",
       "    <tr>\n",
       "      <th>4</th>\n",
       "      <td>neg</td>\n",
       "      <td>i think mi bf is cheating on me!!!   ...</td>\n",
       "    </tr>\n",
       "  </tbody>\n",
       "</table>\n",
       "</div>"
      ],
      "text/plain": [
       "  label                                               text\n",
       "0   neg                       is so sad for my APL frie...\n",
       "1   neg                     I missed the New Moon trail...\n",
       "2   pos                            omg its already 7:30 :O\n",
       "3   neg  .. Omgaga. Im sooo  im gunna CRy. I've been at...\n",
       "4   neg           i think mi bf is cheating on me!!!   ..."
      ]
     },
     "execution_count": 2,
     "metadata": {},
     "output_type": "execute_result"
    }
   ],
   "source": [
    "data = pd.read_csv(\"../datasets/sentiment-analysis/tweets/tweets.csv\", encoding=\"latin-1\");\n",
    "data = data.drop(columns=[\"ItemID\", \"SentimentSource\"], axis=1);\n",
    "data = data.rename(index=str, columns={\"Sentiment\":\"label\",\"SentimentText\":\"text\"});\n",
    "data.head()"
   ]
  },
  {
   "cell_type": "code",
   "execution_count": 3,
   "id": "ef22d682",
   "metadata": {},
   "outputs": [
    {
     "data": {
      "text/plain": [
       "(      label                                               text\n",
       " 0       pos  @amyrenea omg so am I lol I fell asleep when i...\n",
       " 1       neg               @Adrienne_Bailon I want a shout out \n",
       " 2       neg  @Anonymousboy03 Plans for school stuff &amp; a...\n",
       " 3       neg  ... has hit a writer's block .. am loosing my ...\n",
       " 4       neg  ... trying to find people I know! I`m bored, i...\n",
       " ...     ...                                                ...\n",
       " 39995   pos   #robotpickuplines are so funny. check them out. \n",
       " 39996   pos  @annyo84 awh thankss.  yeah, i understand what...\n",
       " 39997   pos  @AmbiguityX ohh you're in twin cities?  i luv ...\n",
       " 39998   neg   Dinara lost again in Roland Garros. Why the S...\n",
       " 39999   pos  *yawn* fucking time zones shit. I'm really sic...\n",
       " \n",
       " [40000 rows x 2 columns],\n",
       "      label                                               text\n",
       " 0      pos  @aimeesays aww i hope it does fly by because J...\n",
       " 1      neg  #dontyouhate when you JUST painted yur nails a...\n",
       " 2      neg  - @EvertB which one? http://bit.ly/10o8LW, htt...\n",
       " 3      pos  *shriek* Bee almost flew here from window. I'm...\n",
       " 4      pos  @Alyssa_Milano granted if we lose it is to a w...\n",
       " ...    ...                                                ...\n",
       " 9995   neg  @aisforamylynn you're a badass for having a ba...\n",
       " 9996   pos  @acts_rox  I'm not particular about it being f...\n",
       " 9997   pos                     @@j311stp and the same to you!\n",
       " 9998   pos  .@nanere Sheila I heart you!! That &quot;Holly...\n",
       " 9999   neg   not the same without a goodnight....hm. Wish ...\n",
       " \n",
       " [10000 rows x 2 columns])"
      ]
     },
     "execution_count": 3,
     "metadata": {},
     "output_type": "execute_result"
    }
   ],
   "source": [
    "train, test = train_test_split(data, test_size=0.2, random_state=42);\n",
    "train.reset_index(drop=True), test.reset_index(drop=True)"
   ]
  },
  {
   "cell_type": "code",
   "execution_count": 4,
   "id": "26b695a0",
   "metadata": {},
   "outputs": [],
   "source": [
    "train.to_csv(\"../datasets/sentiment-analysis/tweets/tweets_train.csv\", index=False);\n",
    "test.to_csv(\"../datasets/sentiment-analysis/tweets/tweets_test.csv\", index=False);"
   ]
  },
  {
   "cell_type": "code",
   "execution_count": 5,
   "id": "37dc0328",
   "metadata": {},
   "outputs": [],
   "source": [
    "import spacy\n",
    "import re\n",
    "nlp = spacy.load(\"en_core_web_sm\");\n",
    "\n",
    "def clean_tweets(text):\n",
    "    text = re.sub(r'[^A-Za-z0-9]+', ' ', text);\n",
    "    text = re.sub(r'https?:/\\/\\S+', ' ', text);\n",
    "    return text.strip();\n",
    "\n",
    "def tokenizer(text):\n",
    "    return [w.text.lower() for w in nlp(clean_tweets(text))];"
   ]
  },
  {
   "cell_type": "code",
   "execution_count": 6,
   "id": "d206e71b",
   "metadata": {},
   "outputs": [],
   "source": [
    "TEXT = Field(tokenize = tokenizer, include_lengths = True);\n",
    "LABEL = LabelField(dtype = torch.float);\n",
    "\n",
    "datafields = [(\"label\",LABEL), (\"text\",TEXT)];\n",
    "trn, tst = TabularDataset.splits(path=\"../datasets/sentiment-analysis/tweets/\",\n",
    "                                train = \"tweets_train.csv\",\n",
    "                                test = \"tweets_test.csv\",\n",
    "                                format = \"csv\",\n",
    "                                skip_header = True,\n",
    "                                fields = datafields);"
   ]
  },
  {
   "cell_type": "code",
   "execution_count": 7,
   "id": "590ac462",
   "metadata": {},
   "outputs": [],
   "source": [
    "TEXT.build_vocab(trn, max_size=2500,\n",
    "                vectors='glove.6B.100d',\n",
    "                unk_init=torch.Tensor.normal_);\n",
    "embedding_dim = 100;\n",
    "vocab_size = len(TEXT.vocab);\n",
    "LABEL.build_vocab(trn);"
   ]
  },
  {
   "cell_type": "code",
   "execution_count": 8,
   "id": "51d70652",
   "metadata": {},
   "outputs": [
    {
     "name": "stdout",
     "output_type": "stream",
     "text": [
      "[('i', 25644), ('the', 12219), ('to', 12111), ('you', 10723), ('a', 9197), ('it', 8440), ('and', 6889), ('my', 6208), ('quot', 5582), ('s', 5565), ('that', 5306), ('is', 5203), ('for', 4971), ('in', 4852), ('t', 4844), ('m', 4683), ('me', 4588), ('of', 4331), ('on', 3918), ('have', 3752), ('so', 3612), ('but', 3506), ('be', 2932), ('not', 2887), ('was', 2775), ('just', 2724), ('can', 2523), ('do', 2418), ('are', 2351), ('your', 2320), ('with', 2269), ('good', 2203), ('like', 2173), ('at', 2131), ('no', 2119), ('this', 2094), ('all', 2069), ('up', 2066), ('now', 2063), ('get', 2044), ('we', 1988), ('u', 1890), ('love', 1885), ('lol', 1864), ('too', 1826), ('what', 1760), ('out', 1742), ('know', 1664), ('nt', 1608), ('amp', 1539)]\n"
     ]
    }
   ],
   "source": [
    "print(TEXT.vocab.freqs.most_common(50));"
   ]
  },
  {
   "cell_type": "code",
   "execution_count": 9,
   "id": "c9829fad",
   "metadata": {},
   "outputs": [
    {
     "name": "stdout",
     "output_type": "stream",
     "text": [
      "['<unk>', '<pad>', 'i', 'the', 'to', 'you', 'a', 'it', 'and', 'my']\n"
     ]
    }
   ],
   "source": [
    "print(TEXT.vocab.itos[0:10]);"
   ]
  },
  {
   "cell_type": "code",
   "execution_count": 10,
   "id": "2c0fc489",
   "metadata": {},
   "outputs": [],
   "source": [
    "batch_size = 32;\n",
    "train_itr, test_itr = BucketIterator.splits((trn, tst),\n",
    "                                            batch_size = batch_size,\n",
    "                                            sort_key = lambda x: len(x.text),\n",
    "                                            #sort=False,\n",
    "                                            #shuffle=True,\n",
    "                                            sort_within_batch=True);"
   ]
  },
  {
   "cell_type": "code",
   "execution_count": 11,
   "id": "aea63ca6",
   "metadata": {},
   "outputs": [],
   "source": [
    "import torch.nn as nn\n",
    "\n",
    "class SentimentAnalysisModel(nn.Module):\n",
    "    def __init__(self, vocab_size, embedding_dim, hidden_dim, \n",
    "                 output_dim, n_layers, bidirectional, dropout, pad_idx):\n",
    "        super().__init__();\n",
    "        \n",
    "        self.embedding = nn.Embedding(vocab_size, embedding_dim, padding_idx = pad_idx);\n",
    "        self.rnn = nn.LSTM(embedding_dim, hidden_dim, \n",
    "                           num_layers = n_layers, \n",
    "                           bidirectional = bidirectional,\n",
    "                           dropout = dropout);\n",
    "        self.fullyconnected = nn.Linear(hidden_dim*2, output_dim);\n",
    "        self.dropout = nn.Dropout(dropout);\n",
    "#         self.sigmoid = nn.Sigmoid()\n",
    "        \n",
    "    def forward(self, tweets, text_lengths):\n",
    "        embedded = self.embedding(tweets);\n",
    "        packed_embedded = nn.utils.rnn.pack_padded_sequence(embedded, text_lengths);\n",
    "        _,(hidden, _) = self.rnn(packed_embedded);\n",
    "        hidden = self.dropout(torch.cat((hidden[-2,:,:], hidden[-1,:,:]), dim = 1));\n",
    "#         return self.sigmoid(self.fullyconnected(hidden));\n",
    "        return self.fullyconnected(hidden);"
   ]
  },
  {
   "cell_type": "code",
   "execution_count": 12,
   "id": "5e04894a",
   "metadata": {},
   "outputs": [],
   "source": [
    "model = SentimentAnalysisModel(vocab_size,\n",
    "                              embedding_dim = 100,\n",
    "                              hidden_dim = 256,\n",
    "                              output_dim = 1,\n",
    "                              n_layers = 2,\n",
    "                              bidirectional = True,\n",
    "                              dropout = 0.5,\n",
    "                              pad_idx = TEXT.vocab.stoi[TEXT.pad_token]);"
   ]
  },
  {
   "cell_type": "code",
   "execution_count": 13,
   "id": "77c6a1e9",
   "metadata": {},
   "outputs": [],
   "source": [
    "pretrained_embeddings = TEXT.vocab.vectors;\n",
    "model.embedding.weight.data.copy_(pretrained_embeddings);\n",
    "model.embedding.weight.data[TEXT.vocab.stoi[TEXT.unk_token]] = torch.zeros(embedding_dim);\n",
    "model.embedding.weight.data[TEXT.vocab.stoi[TEXT.pad_token]] = torch.zeros(embedding_dim);"
   ]
  },
  {
   "cell_type": "code",
   "execution_count": 46,
   "id": "ff8759a6",
   "metadata": {},
   "outputs": [
    {
     "name": "stdout",
     "output_type": "stream",
     "text": [
      "['pos', 'neg']\n"
     ]
    }
   ],
   "source": [
    "# for x in train_itr:\n",
    "#     print(x.text)\n",
    "#     break\n",
    "\n",
    "print(LABEL.vocab.itos)"
   ]
  },
  {
   "cell_type": "code",
   "execution_count": 15,
   "id": "3bf489eb",
   "metadata": {},
   "outputs": [
    {
     "name": "stderr",
     "output_type": "stream",
     "text": [
      "100%|██████████████████████████████████████████████████████████████████████████████| 1250/1250 [08:44<00:00,  2.38it/s]\n"
     ]
    },
    {
     "name": "stdout",
     "output_type": "stream",
     "text": [
      "Epoch: 1 , Loss: 0.5314502973914147 , Accuracy: 72.9 % , Val Loss: 0.473991440031856 , Val Accuracy: 77.33626198083067 %\n"
     ]
    },
    {
     "name": "stderr",
     "output_type": "stream",
     "text": [
      "100%|██████████████████████████████████████████████████████████████████████████████| 1250/1250 [08:56<00:00,  2.33it/s]\n"
     ]
    },
    {
     "name": "stdout",
     "output_type": "stream",
     "text": [
      "Epoch: 2 , Loss: 0.462764978659153 , Accuracy: 77.755 % , Val Loss: 0.46405946475248366 , Val Accuracy: 77.36621405750799 %\n"
     ]
    },
    {
     "name": "stderr",
     "output_type": "stream",
     "text": [
      "100%|██████████████████████████████████████████████████████████████████████████████| 1250/1250 [08:49<00:00,  2.36it/s]\n"
     ]
    }
   ],
   "source": [
    "from tqdm import tqdm\n",
    "import torch.optim as optim\n",
    "\n",
    "n_epochs = 5;\n",
    "optimizer = optim.Adam(model.parameters());\n",
    "# loss_function = nn.BCELoss();\n",
    "loss_function = nn.BCEWithLogitsLoss()\n",
    "\n",
    "loss_stats = []\n",
    "acc_stats = []\n",
    "val_loss_stats = []\n",
    "val_acc_stats = []\n",
    "best_val_loss = 1\n",
    "for epoch in range(n_epochs):\n",
    "    # Train\n",
    "    model.train();\n",
    "    epoch_acc = 0;\n",
    "    epoch_loss = 0;\n",
    "    for batch in tqdm(train_itr):\n",
    "        optimizer.zero_grad();\n",
    "        text, text_lengths = batch.text;\n",
    "        pred = model(text, text_lengths).squeeze();\n",
    "        loss = loss_function(pred, batch.label)\n",
    "#         rounded_pred = torch.round(pred);\n",
    "        rounded_pred = torch.round(torch.sigmoid(pred));\n",
    "        correct = rounded_pred == batch.label;\n",
    "        acc = sum(correct.float())*100/len(correct);\n",
    "        loss.backward()\n",
    "        optimizer.step()\n",
    "        epoch_loss += loss.item();\n",
    "        epoch_acc += acc.item();  \n",
    "    epoch_loss = epoch_loss/len(train_itr)\n",
    "    epoch_acc = epoch_acc/len(train_itr)\n",
    "    loss_stats.append(epoch_loss)\n",
    "    acc_stats.append(epoch_acc)\n",
    "    \n",
    "    # Validate\n",
    "    model.eval();\n",
    "    val_loss = 0;\n",
    "    val_acc = 0;\n",
    "    with torch.no_grad():        \n",
    "        for batch in test_itr:\n",
    "            text, text_lengths = batch.text;\n",
    "            pred = model(text, text_lengths).squeeze();\n",
    "            loss = loss_function(pred, batch.label)\n",
    "#             rounded_pred = torch.round(pred);\n",
    "            rounded_pred = torch.round(torch.sigmoid(pred));\n",
    "            correct = rounded_pred == batch.label;\n",
    "            acc = sum(correct.float())*100/len(correct);\n",
    "            val_loss += loss.item();\n",
    "            val_acc += acc.item();\n",
    "    val_loss = val_loss/len(test_itr)\n",
    "    val_acc = val_acc/len(test_itr)\n",
    "    val_loss_stats.append(val_loss)\n",
    "    val_acc_stats.append(val_acc)\n",
    "    \n",
    "    if val_loss < best_val_loss:\n",
    "        best_val_loss = val_loss\n",
    "        torch.save(model.state_dict(), 'sentiment_analysis_weights.pt')\n",
    "    elif val_loss > best_val_loss:\n",
    "        break\n",
    "    \n",
    "    print(\"Epoch:\", epoch+1, \", Loss:\", epoch_loss, \", Accuracy:\", epoch_acc, \"%\", \", Val Loss:\", val_loss, \", Val Accuracy:\", val_acc,\"%\");"
   ]
  },
  {
   "cell_type": "code",
   "execution_count": 16,
   "id": "48a084e8",
   "metadata": {},
   "outputs": [
    {
     "data": {
      "image/png": "[encoded data removed]",
      "text/plain": [
       "<Figure size 432x288 with 1 Axes>"
      ]
     },
     "metadata": {
      "needs_background": "light"
     },
     "output_type": "display_data"
    },
    {
     "data": {
      "image/png": "[encoded data removed]",
      "text/plain": [
       "<Figure size 432x288 with 1 Axes>"
      ]
     },
     "metadata": {
      "needs_background": "light"
     },
     "output_type": "display_data"
    }
   ],
   "source": [
    "import matplotlib.pyplot as plt\n",
    "\n",
    "plt.plot(acc_stats)\n",
    "plt.plot(val_acc_stats)\n",
    "\n",
    "plt.title('model accuracy')\n",
    "plt.ylabel('accuracy')\n",
    "plt.xlabel('epoch')\n",
    "plt.legend(['train','validation'], loc='upper left')\n",
    "# plt.ylim(0.5,1)\n",
    "plt.show()\n",
    "\n",
    "plt.plot(loss_stats)\n",
    "plt.plot(val_loss_stats)\n",
    "\n",
    "plt.title('model loss')\n",
    "plt.ylabel('loss')\n",
    "plt.xlabel('epoch')\n",
    "plt.legend(['train','validation'], loc='upper left')\n",
    "# plt.ylim(0,1.5)\n",
    "plt.show()"
   ]
  },
  {
   "cell_type": "code",
   "execution_count": 17,
   "id": "4871fb49",
   "metadata": {},
   "outputs": [],
   "source": [
    "import pickle\n",
    "output = open('sentiment_vocab.pkl', 'wb')\n",
    "pickle.dump(TEXT.vocab, output)\n",
    "output.close()"
   ]
  }
 ],
 "metadata": {
  "kernelspec": {
   "display_name": "Python 3 (ipykernel)",
   "language": "python",
   "name": "python3"
  },
  "language_info": {
   "codemirror_mode": {
    "name": "ipython",
    "version": 3
   },
   "file_extension": ".py",
   "mimetype": "text/x-python",
   "name": "python",
   "nbconvert_exporter": "python",
   "pygments_lexer": "ipython3",
   "version": "3.9.1"
  }
 },
 "nbformat": 4,
 "nbformat_minor": 5
}
