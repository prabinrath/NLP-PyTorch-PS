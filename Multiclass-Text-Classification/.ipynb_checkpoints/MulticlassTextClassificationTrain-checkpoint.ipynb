{
 "cells": [
  {
   "cell_type": "code",
   "execution_count": 1,
   "id": "4946367f",
   "metadata": {},
   "outputs": [],
   "source": [
    "import unicodedata\n",
    "def unicodeToAscii(s):\n",
    "    return ''.join(\n",
    "        c for c in unicodedata.normalize('NFD', s)\n",
    "        if unicodedata.category(c) != 'Mn'\n",
    "        and c in all_letters\n",
    "    )"
   ]
  },
  {
   "cell_type": "code",
   "execution_count": 2,
   "id": "b6358222",
   "metadata": {},
   "outputs": [],
   "source": [
    "import glob\n",
    "lang_data = {}\n",
    "for file in glob.glob(\"../datasets/language_data/names/*.txt\"):\n",
    "    names = [name.strip('\\n') for name in open(file, encoding='utf-8').readlines()]\n",
    "    lang = file.split('\\\\')[-1].split('.')[0]\n",
    "    lang_data[lang] = names"
   ]
  },
  {
   "cell_type": "code",
   "execution_count": 3,
   "id": "dc7c8e91",
   "metadata": {},
   "outputs": [
    {
     "name": "stderr",
     "output_type": "stream",
     "text": [
      "c:\\users\\admin\\play\\lib\\site-packages\\tqdm\\auto.py:22: TqdmWarning: IProgress not found. Please update jupyter and ipywidgets. See https://ipywidgets.readthedocs.io/en/stable/user_install.html\n",
      "  from .autonotebook import tqdm as notebook_tqdm\n"
     ]
    }
   ],
   "source": [
    "import string\n",
    "import torch\n",
    "char_vocab = string.ascii_letters + \" .,;'\"\n",
    "char_embedding_len = len(char_vocab);\n",
    "lang_embedding_len = len(lang_data.keys());    "
   ]
  },
  {
   "cell_type": "code",
   "execution_count": 4,
   "id": "7b21bb10",
   "metadata": {},
   "outputs": [
    {
     "name": "stdout",
     "output_type": "stream",
     "text": [
      "tensor([[[0., 0., 0., 0., 0., 0., 0., 0., 0., 0., 0., 0., 0., 0., 0., 0., 0.,\n",
      "          0., 0., 0., 0., 0., 0., 0., 0., 0., 0., 0., 0., 0., 0., 0., 0., 0.,\n",
      "          0., 0., 0., 0., 0., 0., 0., 1., 0., 0., 0., 0., 0., 0., 0., 0., 0.,\n",
      "          0., 0., 0., 0., 0., 0.]],\n",
      "\n",
      "        [[0., 0., 0., 0., 0., 0., 0., 0., 0., 0., 0., 0., 0., 0., 0., 0., 0.,\n",
      "          1., 0., 0., 0., 0., 0., 0., 0., 0., 0., 0., 0., 0., 0., 0., 0., 0.,\n",
      "          0., 0., 0., 0., 0., 0., 0., 0., 0., 0., 0., 0., 0., 0., 0., 0., 0.,\n",
      "          0., 0., 0., 0., 0., 0.]],\n",
      "\n",
      "        [[1., 0., 0., 0., 0., 0., 0., 0., 0., 0., 0., 0., 0., 0., 0., 0., 0.,\n",
      "          0., 0., 0., 0., 0., 0., 0., 0., 0., 0., 0., 0., 0., 0., 0., 0., 0.,\n",
      "          0., 0., 0., 0., 0., 0., 0., 0., 0., 0., 0., 0., 0., 0., 0., 0., 0.,\n",
      "          0., 0., 0., 0., 0., 0.]],\n",
      "\n",
      "        [[0., 1., 0., 0., 0., 0., 0., 0., 0., 0., 0., 0., 0., 0., 0., 0., 0.,\n",
      "          0., 0., 0., 0., 0., 0., 0., 0., 0., 0., 0., 0., 0., 0., 0., 0., 0.,\n",
      "          0., 0., 0., 0., 0., 0., 0., 0., 0., 0., 0., 0., 0., 0., 0., 0., 0.,\n",
      "          0., 0., 0., 0., 0., 0.]],\n",
      "\n",
      "        [[0., 0., 0., 0., 0., 0., 0., 0., 1., 0., 0., 0., 0., 0., 0., 0., 0.,\n",
      "          0., 0., 0., 0., 0., 0., 0., 0., 0., 0., 0., 0., 0., 0., 0., 0., 0.,\n",
      "          0., 0., 0., 0., 0., 0., 0., 0., 0., 0., 0., 0., 0., 0., 0., 0., 0.,\n",
      "          0., 0., 0., 0., 0., 0.]],\n",
      "\n",
      "        [[0., 0., 0., 0., 0., 0., 0., 0., 0., 0., 0., 0., 0., 1., 0., 0., 0.,\n",
      "          0., 0., 0., 0., 0., 0., 0., 0., 0., 0., 0., 0., 0., 0., 0., 0., 0.,\n",
      "          0., 0., 0., 0., 0., 0., 0., 0., 0., 0., 0., 0., 0., 0., 0., 0., 0.,\n",
      "          0., 0., 0., 0., 0., 0.]]])\n"
     ]
    }
   ],
   "source": [
    "def name2tensor(nm):\n",
    "    nm_tensor = torch.zeros(len(nm), 1, char_embedding_len);\n",
    "    for i,letter in enumerate(nm):\n",
    "        nm_tensor[i][0][char_vocab.find(letter)] = 1;\n",
    "    return nm_tensor\n",
    "\n",
    "print(name2tensor('Prabin'));"
   ]
  },
  {
   "cell_type": "code",
   "execution_count": 5,
   "id": "a8b8a395",
   "metadata": {},
   "outputs": [
    {
     "name": "stdout",
     "output_type": "stream",
     "text": [
      "('Donoghue', tensor([[[0., 0., 0., 0., 0., 0., 0., 0., 0., 0., 0., 0., 0., 0., 0., 0., 0.,\n",
      "          0., 0., 0., 0., 0., 0., 0., 0., 0., 0., 0., 0., 1., 0., 0., 0., 0.,\n",
      "          0., 0., 0., 0., 0., 0., 0., 0., 0., 0., 0., 0., 0., 0., 0., 0., 0.,\n",
      "          0., 0., 0., 0., 0., 0.]],\n",
      "\n",
      "        [[0., 0., 0., 0., 0., 0., 0., 0., 0., 0., 0., 0., 0., 0., 1., 0., 0.,\n",
      "          0., 0., 0., 0., 0., 0., 0., 0., 0., 0., 0., 0., 0., 0., 0., 0., 0.,\n",
      "          0., 0., 0., 0., 0., 0., 0., 0., 0., 0., 0., 0., 0., 0., 0., 0., 0.,\n",
      "          0., 0., 0., 0., 0., 0.]],\n",
      "\n",
      "        [[0., 0., 0., 0., 0., 0., 0., 0., 0., 0., 0., 0., 0., 1., 0., 0., 0.,\n",
      "          0., 0., 0., 0., 0., 0., 0., 0., 0., 0., 0., 0., 0., 0., 0., 0., 0.,\n",
      "          0., 0., 0., 0., 0., 0., 0., 0., 0., 0., 0., 0., 0., 0., 0., 0., 0.,\n",
      "          0., 0., 0., 0., 0., 0.]],\n",
      "\n",
      "        [[0., 0., 0., 0., 0., 0., 0., 0., 0., 0., 0., 0., 0., 0., 1., 0., 0.,\n",
      "          0., 0., 0., 0., 0., 0., 0., 0., 0., 0., 0., 0., 0., 0., 0., 0., 0.,\n",
      "          0., 0., 0., 0., 0., 0., 0., 0., 0., 0., 0., 0., 0., 0., 0., 0., 0.,\n",
      "          0., 0., 0., 0., 0., 0.]],\n",
      "\n",
      "        [[0., 0., 0., 0., 0., 0., 1., 0., 0., 0., 0., 0., 0., 0., 0., 0., 0.,\n",
      "          0., 0., 0., 0., 0., 0., 0., 0., 0., 0., 0., 0., 0., 0., 0., 0., 0.,\n",
      "          0., 0., 0., 0., 0., 0., 0., 0., 0., 0., 0., 0., 0., 0., 0., 0., 0.,\n",
      "          0., 0., 0., 0., 0., 0.]],\n",
      "\n",
      "        [[0., 0., 0., 0., 0., 0., 0., 1., 0., 0., 0., 0., 0., 0., 0., 0., 0.,\n",
      "          0., 0., 0., 0., 0., 0., 0., 0., 0., 0., 0., 0., 0., 0., 0., 0., 0.,\n",
      "          0., 0., 0., 0., 0., 0., 0., 0., 0., 0., 0., 0., 0., 0., 0., 0., 0.,\n",
      "          0., 0., 0., 0., 0., 0.]],\n",
      "\n",
      "        [[0., 0., 0., 0., 0., 0., 0., 0., 0., 0., 0., 0., 0., 0., 0., 0., 0.,\n",
      "          0., 0., 0., 1., 0., 0., 0., 0., 0., 0., 0., 0., 0., 0., 0., 0., 0.,\n",
      "          0., 0., 0., 0., 0., 0., 0., 0., 0., 0., 0., 0., 0., 0., 0., 0., 0.,\n",
      "          0., 0., 0., 0., 0., 0.]],\n",
      "\n",
      "        [[0., 0., 0., 0., 1., 0., 0., 0., 0., 0., 0., 0., 0., 0., 0., 0., 0.,\n",
      "          0., 0., 0., 0., 0., 0., 0., 0., 0., 0., 0., 0., 0., 0., 0., 0., 0.,\n",
      "          0., 0., 0., 0., 0., 0., 0., 0., 0., 0., 0., 0., 0., 0., 0., 0., 0.,\n",
      "          0., 0., 0., 0., 0., 0.]]]), 'Irish', tensor([8]))\n"
     ]
    }
   ],
   "source": [
    "import random\n",
    "\n",
    "def randomTrainingExample(lang_data):\n",
    "    langs = list(lang_data.keys());\n",
    "    rand_ind = random.randint(0, len(langs)-1);\n",
    "    lang = langs[rand_ind];\n",
    "    lang_tensor = torch.tensor([rand_ind], dtype=torch.long)\n",
    "    \n",
    "    names = lang_data[lang];\n",
    "    name = names[random.randint(0, len(names)-1)];\n",
    "    name_tensor = name2tensor(name);\n",
    "    \n",
    "    return name, name_tensor, lang, lang_tensor\n",
    "\n",
    "print(randomTrainingExample(lang_data));"
   ]
  },
  {
   "cell_type": "code",
   "execution_count": 6,
   "id": "60c514c6",
   "metadata": {},
   "outputs": [],
   "source": [
    "import torch.nn as nn\n",
    "\n",
    "class CustomRNN(nn.Module):\n",
    "    \n",
    "    def __init__(self, input_dim, hidden_dim, output_dim):\n",
    "        super().__init__();\n",
    "        self.hidden_size = hidden_dim;\n",
    "        self.hidden = nn.Linear(input_dim+hidden_dim, hidden_dim);\n",
    "        self.output = nn.Linear(input_dim+hidden_dim, output_dim);\n",
    "        self.activation = nn.LogSoftmax(dim=1)\n",
    "    \n",
    "    # Custom forward function for manual unrolling of the RNN\n",
    "    def forward(self, inp, hid):\n",
    "        x = torch.cat((inp, hid), 1);\n",
    "        hid_next = self.hidden(x);\n",
    "        out = self.output(x);\n",
    "        return self.activation(out), hid_next\n",
    "    \n",
    "    def initHidden(self):\n",
    "        return torch.zeros(1, self.hidden_size)"
   ]
  },
  {
   "cell_type": "code",
   "execution_count": 7,
   "id": "141fb14d",
   "metadata": {},
   "outputs": [],
   "source": [
    "def tensor2lang(lang_keys, t):\n",
    "    _, top_i = t.topk(1);\n",
    "    category_i = top_i[0].item()\n",
    "    return lang_keys[category_i], category_i"
   ]
  },
  {
   "cell_type": "code",
   "execution_count": 8,
   "id": "8914e22d",
   "metadata": {},
   "outputs": [],
   "source": [
    "import torch.optim as optim\n",
    "\n",
    "hidden_dim = 128;\n",
    "name_classifier = CustomRNN(char_embedding_len, hidden_dim, lang_embedding_len);\n",
    "optimizer = optim.SGD(name_classifier.parameters(), lr=0.005);\n",
    "lossfn = nn.NLLLoss();\n",
    "\n",
    "def train(name_tensor, lang_tensor):  \n",
    "    name_classifier.train();\n",
    "    hid = name_classifier.initHidden();\n",
    "    \n",
    "    optimizer.zero_grad();    \n",
    "    for i in range(name_tensor.size(0)):\n",
    "        letter_tensor = name_tensor[i];\n",
    "        out, hid = name_classifier(letter_tensor, hid);\n",
    "        \n",
    "    loss = lossfn(out, lang_tensor);\n",
    "    loss.backward();\n",
    "    optimizer.step();\n",
    "    \n",
    "    return out, loss.item()"
   ]
  },
  {
   "cell_type": "code",
   "execution_count": 9,
   "id": "c767b533",
   "metadata": {},
   "outputs": [
    {
     "name": "stdout",
     "output_type": "stream",
     "text": [
      "5000  Name: Lam , Predicted: Vietnamese , Actual: Vietnamese , Loss: 2.2173855304718018   ✓\n",
      "10000  Name: Oriol , Predicted: Scottish , Actual: Spanish , Loss: 2.5285677909851074   ✗\n",
      "15000  Name: Kaluza , Predicted: Japanese , Actual: Polish , Loss: 3.071477174758911   ✗\n",
      "20000  Name: Driml , Predicted: Vietnamese , Actual: Czech , Loss: 2.7202038764953613   ✗\n",
      "25000  Name: Sachs , Predicted: Portuguese , Actual: German , Loss: 2.4257402420043945   ✗\n",
      "30000  Name: Jermy , Predicted: Czech , Actual: English , Loss: 1.9428623914718628   ✗\n",
      "35000  Name: Mathghamhain , Predicted: Russian , Actual: Irish , Loss: 2.680528163909912   ✗\n",
      "40000  Name: Scolaidhe , Predicted: French , Actual: Irish , Loss: 2.145796775817871   ✗\n",
      "45000  Name: Wise , Predicted: French , Actual: English , Loss: 2.0080652236938477   ✗\n",
      "50000  Name: Engman , Predicted: Irish , Actual: Russian , Loss: 3.747297763824463   ✗\n",
      "55000  Name: Saliba , Predicted: Arabic , Actual: Arabic , Loss: 1.3311501741409302   ✓\n",
      "60000  Name: Patrick , Predicted: Czech , Actual: Irish , Loss: 3.7777023315429688   ✗\n",
      "65000  Name: Ho , Predicted: Korean , Actual: Vietnamese , Loss: 0.9490692019462585   ✗\n",
      "70000  Name: Torres , Predicted: Portuguese , Actual: Portuguese , Loss: 0.7224574089050293   ✓\n",
      "75000  Name: Elzer , Predicted: Czech , Actual: English , Loss: 1.7535914182662964   ✗\n",
      "80000  Name: Mendes , Predicted: Dutch , Actual: Portuguese , Loss: 1.3582103252410889   ✗\n",
      "85000  Name: Kenrick , Predicted: Polish , Actual: English , Loss: 3.0820600986480713   ✗\n",
      "90000  Name: Bassanelli , Predicted: Italian , Actual: Italian , Loss: 0.037276364862918854   ✓\n",
      "95000  Name: Cao , Predicted: Chinese , Actual: Vietnamese , Loss: 2.006167411804199   ✗\n",
      "100000  Name: Tso , Predicted: Vietnamese , Actual: Chinese , Loss: 1.3603730201721191   ✗\n",
      "105000  Name: Roig , Predicted: Chinese , Actual: Spanish , Loss: 3.3450865745544434   ✗\n",
      "110000  Name: Trieu , Predicted: Vietnamese , Actual: Vietnamese , Loss: 0.27878573536872864   ✓\n",
      "115000  Name: Franco , Predicted: Portuguese , Actual: Portuguese , Loss: 1.369786262512207   ✓\n",
      "120000  Name: Jirik , Predicted: Czech , Actual: Czech , Loss: 0.7662960290908813   ✓\n",
      "125000  Name: Neisser , Predicted: Dutch , Actual: Czech , Loss: 1.4043279886245728   ✗\n",
      "130000  Name: Irie , Predicted: French , Actual: Japanese , Loss: 3.2887203693389893   ✗\n",
      "135000  Name: Bonomo , Predicted: Italian , Actual: Italian , Loss: 0.7335547804832458   ✓\n",
      "140000  Name: Eoghan , Predicted: Irish , Actual: Irish , Loss: 1.1497564315795898   ✓\n",
      "145000  Name: Smets , Predicted: Dutch , Actual: Dutch , Loss: 0.8341057896614075   ✓\n",
      "150000  Name: Mishima , Predicted: Japanese , Actual: Japanese , Loss: 0.1184135302901268   ✓\n"
     ]
    }
   ],
   "source": [
    "total_itr = 150000;\n",
    "print_chkp = 5000;\n",
    "loss_chkp = 1000;\n",
    "\n",
    "curr_loss = 0\n",
    "loss_track = [];\n",
    "for n in range(total_itr+1):\n",
    "    name, name_tensor, lang_label, lang_tensor = randomTrainingExample(lang_data);    \n",
    "    out, loss = train(name_tensor, lang_tensor);\n",
    "    lang_pred,_ = tensor2lang(list(lang_data.keys()), out);\n",
    "    \n",
    "    curr_loss += loss;\n",
    "    if n%print_chkp == 0 and n != 0:\n",
    "        correct = '✓' if lang_pred == lang_label else '✗';\n",
    "        print(n, \" Name:\",name, \", Predicted:\", lang_pred, \", Actual:\", lang_label, \", Loss:\", loss, \" \", correct);\n",
    "    if n%loss_chkp == 0 and n != 0:\n",
    "        loss_track.append(curr_loss/loss_chkp);\n",
    "        curr_loss = 0;\n",
    "    # break"
   ]
  },
  {
   "cell_type": "code",
   "execution_count": 10,
   "id": "3288806a",
   "metadata": {},
   "outputs": [
    {
     "data": {
      "text/plain": [
       "[<matplotlib.lines.Line2D at 0x18ae9369250>]"
      ]
     },
     "execution_count": 10,
     "metadata": {},
     "output_type": "execute_result"
    },
    {
     "data": {
      "image/png": "[encoded data removed]",
      "text/plain": [
       "<Figure size 432x288 with 1 Axes>"
      ]
     },
     "metadata": {
      "needs_background": "light"
     },
     "output_type": "display_data"
    }
   ],
   "source": [
    "import matplotlib.pyplot as plt\n",
    "\n",
    "plt.figure()\n",
    "plt.plot(loss_track)"
   ]
  },
  {
   "cell_type": "code",
   "execution_count": 22,
   "id": "e86fe933",
   "metadata": {},
   "outputs": [
    {
     "name": "stdout",
     "output_type": "stream",
     "text": [
      "Average Accuracy is  61.1 %\n"
     ]
    }
   ],
   "source": [
    "avg_accuracy = 0;\n",
    "for k in range(10):\n",
    "    n_correct = 0\n",
    "    for n in range(100):\n",
    "        name, name_tensor, lang_label, lang_tensor = randomTrainingExample(lang_data); \n",
    "        name_classifier.eval();\n",
    "        with torch.no_grad():\n",
    "            hid = name_classifier.initHidden();\n",
    "            for i in range(name_tensor.size(0)):\n",
    "                letter_tensor = name_tensor[i];\n",
    "                out, hid = name_classifier(letter_tensor, hid);\n",
    "            lang_pred,_ = tensor2lang(list(lang_data.keys()), out);\n",
    "            if lang_pred == lang_label:\n",
    "                correct = '✓';\n",
    "                n_correct += 1;\n",
    "            else:\n",
    "                correct = '✗';\n",
    "            # print(n+1, \" Name:\",name, \", Predicted:\", lang_pred, \", Actual:\", lang_label, \" \", correct);\n",
    "    avg_accuracy += n_correct;\n",
    "print(\"Average Accuracy is \",avg_accuracy/10,\"%\");"
   ]
  }
 ],
 "metadata": {
  "kernelspec": {
   "display_name": "Python 3 (ipykernel)",
   "language": "python",
   "name": "python3"
  },
  "language_info": {
   "codemirror_mode": {
    "name": "ipython",
    "version": 3
   },
   "file_extension": ".py",
   "mimetype": "text/x-python",
   "name": "python",
   "nbconvert_exporter": "python",
   "pygments_lexer": "ipython3",
   "version": "3.9.1"
  }
 },
 "nbformat": 4,
 "nbformat_minor": 5
}
