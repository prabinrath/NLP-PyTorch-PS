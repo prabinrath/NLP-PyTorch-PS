{
 "cells": [
  {
   "cell_type": "code",
   "execution_count": 14,
   "id": "f227301a",
   "metadata": {},
   "outputs": [
    {
     "name": "stdout",
     "output_type": "stream",
     "text": [
      "tensor([2., 3.], requires_grad=True) tensor([1., 4.], requires_grad=True)\n",
      "tensor([22., 49.], grad_fn=<SubBackward0>)\n",
      "tensor([36., 81.]) tensor([ -4., -16.])\n"
     ]
    }
   ],
   "source": [
    "import torch\n",
    "\n",
    "x1 = torch.tensor([2.0, 3.0], requires_grad=True)\n",
    "x2 = torch.tensor([1.0, 4.0], requires_grad=True)\n",
    "\n",
    "print(a, b)\n",
    "\n",
    "q = 3*x1**3 - 2*x2**2\n",
    "print(q)\n",
    "\n",
    "q.backward(gradient=torch.tensor([1., 1.]))\n",
    "print(x1.grad, x2.grad)"
   ]
  }
 ],
 "metadata": {
  "kernelspec": {
   "display_name": "Python 3 (ipykernel)",
   "language": "python",
   "name": "python3"
  },
  "language_info": {
   "codemirror_mode": {
    "name": "ipython",
    "version": 3
   },
   "file_extension": ".py",
   "mimetype": "text/x-python",
   "name": "python",
   "nbconvert_exporter": "python",
   "pygments_lexer": "ipython3",
   "version": "3.9.1"
  }
 },
 "nbformat": 4,
 "nbformat_minor": 5
}
