{
 "cells": [
  {
   "cell_type": "code",
   "execution_count": 1,
   "id": "bf70109c",
   "metadata": {},
   "outputs": [
    {
     "data": {
      "application/vnd.jupyter.widget-view+json": {
       "model_id": "ca90b9b07be54784a08496626a58c038",
       "version_major": 2,
       "version_minor": 0
      },
      "text/plain": [
       "Downloading:   0%|          | 0.00/953 [00:00<?, ?B/s]"
      ]
     },
     "metadata": {},
     "output_type": "display_data"
    },
    {
     "name": "stderr",
     "output_type": "stream",
     "text": [
      "Using custom data configuration cfilt--iitb-english-hindi-911387c6837f8b91\n"
     ]
    },
    {
     "name": "stdout",
     "output_type": "stream",
     "text": [
      "Downloading and preparing dataset json/default (download: 181.38 MiB, generated: 427.93 MiB, post-processed: Unknown size, total: 609.31 MiB) to C:\\Users\\Admin\\.cache\\huggingface\\datasets\\parquet\\cfilt--iitb-english-hindi-911387c6837f8b91\\0.0.0\\1638526fd0e8d960534e2155dc54fdff8dce73851f21f031d2fb9c2cf757c121...\n"
     ]
    },
    {
     "data": {
      "application/vnd.jupyter.widget-view+json": {
       "model_id": "b02d308296814b74bd5766383bea5c97",
       "version_major": 2,
       "version_minor": 0
      },
      "text/plain": [
       "  0%|          | 0/3 [00:00<?, ?it/s]"
      ]
     },
     "metadata": {},
     "output_type": "display_data"
    },
    {
     "data": {
      "application/vnd.jupyter.widget-view+json": {
       "model_id": "59900fdba93f4cb4859e40a01b496949",
       "version_major": 2,
       "version_minor": 0
      },
      "text/plain": [
       "Downloading:   0%|          | 0.00/85.7k [00:00<?, ?B/s]"
      ]
     },
     "metadata": {},
     "output_type": "display_data"
    },
    {
     "data": {
      "application/vnd.jupyter.widget-view+json": {
       "model_id": "b345e2ea805c406888cac9d06a27d437",
       "version_major": 2,
       "version_minor": 0
      },
      "text/plain": [
       "Downloading:   0%|          | 0.00/500k [00:00<?, ?B/s]"
      ]
     },
     "metadata": {},
     "output_type": "display_data"
    },
    {
     "data": {
      "application/vnd.jupyter.widget-view+json": {
       "model_id": "ed7f64a36fd24eae9a096c2d8ebe047a",
       "version_major": 2,
       "version_minor": 0
      },
      "text/plain": [
       "Downloading:   0%|          | 0.00/190M [00:00<?, ?B/s]"
      ]
     },
     "metadata": {},
     "output_type": "display_data"
    },
    {
     "data": {
      "application/vnd.jupyter.widget-view+json": {
       "model_id": "efcedbc502684505b4c7b04b0faa6f06",
       "version_major": 2,
       "version_minor": 0
      },
      "text/plain": [
       "  0%|          | 0/3 [00:00<?, ?it/s]"
      ]
     },
     "metadata": {},
     "output_type": "display_data"
    },
    {
     "name": "stdout",
     "output_type": "stream",
     "text": [
      "Dataset parquet downloaded and prepared to C:\\Users\\Admin\\.cache\\huggingface\\datasets\\parquet\\cfilt--iitb-english-hindi-911387c6837f8b91\\0.0.0\\1638526fd0e8d960534e2155dc54fdff8dce73851f21f031d2fb9c2cf757c121. Subsequent calls will reuse this data.\n"
     ]
    },
    {
     "data": {
      "application/vnd.jupyter.widget-view+json": {
       "model_id": "a387a62e490e40cd89627235277e1760",
       "version_major": 2,
       "version_minor": 0
      },
      "text/plain": [
       "  0%|          | 0/3 [00:00<?, ?it/s]"
      ]
     },
     "metadata": {},
     "output_type": "display_data"
    }
   ],
   "source": [
    "from datasets import load_dataset\n",
    "dataset = load_dataset(\"cfilt/iitb-english-hindi\")"
   ]
  },
  {
   "cell_type": "code",
   "execution_count": 2,
   "id": "8191af6f",
   "metadata": {},
   "outputs": [],
   "source": [
    "path = '../datasets/english-hindi-translation/';\n",
    "source_train_file = open(path+\"source_train.txt\", \"w+\", encoding='utf8')\n",
    "target_train_file = open(path+\"target_train.txt\", \"w+\", encoding='utf8')\n",
    "for translation_pair in dataset[\"train\"][\"translation\"]:\n",
    "    source_sentence = translation_pair[\"en\"]\n",
    "    target_sentence = translation_pair[\"hi\"]\n",
    "    source_train_file.write(source_sentence.strip(\"\\n\") + \"\\n\")\n",
    "    target_train_file.write(target_sentence.strip(\"\\n\") + \"\\n\")\n",
    "source_train_file.close()\n",
    "target_train_file.close()\n",
    "\n",
    "source_valid_file = open(path+\"source_valid.txt\", \"w+\", encoding='utf8')\n",
    "target_valid_file = open(path+\"target_valid.txt\", \"w+\", encoding='utf8')\n",
    "for translation_pair in dataset[\"validation\"][\"translation\"]:\n",
    "    source_sentence = translation_pair[\"en\"]\n",
    "    target_sentence = translation_pair[\"hi\"]\n",
    "    source_valid_file.write(source_sentence.strip(\"\\n\") + \"\\n\")\n",
    "    target_valid_file.write(target_sentence.strip(\"\\n\") + \"\\n\")\n",
    "source_valid_file.close()\n",
    "target_valid_file.close()\n",
    "\n",
    "source_test_file = open(path+\"source_test.txt\", \"w+\", encoding='utf8')\n",
    "target_test_file = open(path+\"target_test.txt\", \"w+\", encoding='utf8')\n",
    "for translation_pair in dataset[\"test\"][\"translation\"]:\n",
    "    source_sentence = translation_pair[\"en\"]\n",
    "    target_sentence = translation_pair[\"hi\"]\n",
    "    source_test_file.write(source_sentence.strip(\"\\n\") + \"\\n\")\n",
    "    target_test_file.write(target_sentence.strip(\"\\n\") + \"\\n\")\n",
    "source_test_file.close()\n",
    "target_test_file.close()"
   ]
  }
 ],
 "metadata": {
  "kernelspec": {
   "display_name": "Python 3 (ipykernel)",
   "language": "python",
   "name": "python3"
  },
  "language_info": {
   "codemirror_mode": {
    "name": "ipython",
    "version": 3
   },
   "file_extension": ".py",
   "mimetype": "text/x-python",
   "name": "python",
   "nbconvert_exporter": "python",
   "pygments_lexer": "ipython3",
   "version": "3.9.1"
  }
 },
 "nbformat": 4,
 "nbformat_minor": 5
}
